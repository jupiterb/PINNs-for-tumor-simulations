{
 "cells": [
  {
   "cell_type": "markdown",
   "metadata": {},
   "source": [
    "# Preprocessed Brain-Tumor-Progression data"
   ]
  },
  {
   "cell_type": "code",
   "execution_count": 1,
   "metadata": {},
   "outputs": [],
   "source": [
    "import matplotlib.pyplot as plt\n",
    "\n",
    "from ipywidgets import interact, IntSlider\n",
    "from pathlib import Path\n",
    "\n",
    "from phynn.dataloader import DataLoader, HDF5DirectlyFromFile"
   ]
  },
  {
   "cell_type": "markdown",
   "metadata": {},
   "source": [
    "## Load data"
   ]
  },
  {
   "cell_type": "code",
   "execution_count": 2,
   "metadata": {},
   "outputs": [
    {
     "name": "stdout",
     "output_type": "stream",
     "text": [
      "Number of loaded samples: 20\n",
      "Shape of each image: (21, 128, 128)\n"
     ]
    }
   ],
   "source": [
    "dataset_path = Path(\"../../data/preprocessed/Brain-Tumor-Progression/2d.h5\")\n",
    "data_interface = HDF5DirectlyFromFile(dataset_path)\n",
    "loader = DataLoader(data_interface)\n",
    "\n",
    "print(f\"Number of loaded samples: {len(loader)}\")\n",
    "print(f\"Shape of each image: {loader.shape}\")"
   ]
  },
  {
   "cell_type": "markdown",
   "metadata": {},
   "source": [
    "## Visualize preprocessed"
   ]
  },
  {
   "cell_type": "code",
   "execution_count": 3,
   "metadata": {},
   "outputs": [],
   "source": [
    "def show_loaded_3d_image(loader: DataLoader):\n",
    "    size = len(loader)\n",
    "\n",
    "    def plot_height(index: int, time: int, x: int):\n",
    "        data = loader[index][:2]\n",
    "        image_3d = data[time].cpu()\n",
    "        image_2d = image_3d[x]\n",
    "\n",
    "        v_min = image_3d.min().item()\n",
    "        v_max = image_3d.max().item()\n",
    "\n",
    "        plt.imshow(image_2d, vmin=v_min, vmax=v_max)\n",
    "        plt.show()\n",
    "\n",
    "    index_slider = IntSlider(min=0, max=size - 1, description=\"Index\")\n",
    "    time_slider = IntSlider(min=0, max=1, description=\"Time\")\n",
    "    x_slider = IntSlider(min=0, max=loader.shape[1] - 1, description=\"X\")\n",
    "\n",
    "    interact(\n",
    "        plot_height,\n",
    "        index=index_slider,\n",
    "        time=time_slider,\n",
    "        x=x_slider,\n",
    "    )"
   ]
  },
  {
   "cell_type": "code",
   "execution_count": 4,
   "metadata": {},
   "outputs": [
    {
     "data": {
      "application/vnd.jupyter.widget-view+json": {
       "model_id": "29b95692266d4edcafce19945b03e5e9",
       "version_major": 2,
       "version_minor": 0
      },
      "text/plain": [
       "interactive(children=(IntSlider(value=0, description='Index', max=19), IntSlider(value=0, description='Time', …"
      ]
     },
     "metadata": {},
     "output_type": "display_data"
    }
   ],
   "source": [
    "show_loaded_3d_image(loader)"
   ]
  }
 ],
 "metadata": {
  "kernelspec": {
   "display_name": "venv",
   "language": "python",
   "name": "python3"
  },
  "language_info": {
   "codemirror_mode": {
    "name": "ipython",
    "version": 3
   },
   "file_extension": ".py",
   "mimetype": "text/x-python",
   "name": "python",
   "nbconvert_exporter": "python",
   "pygments_lexer": "ipython3",
   "version": "3.11.8"
  }
 },
 "nbformat": 4,
 "nbformat_minor": 2
}
