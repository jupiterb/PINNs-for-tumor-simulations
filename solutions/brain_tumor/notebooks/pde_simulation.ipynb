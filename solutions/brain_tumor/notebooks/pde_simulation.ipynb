{
 "cells": [
  {
   "cell_type": "markdown",
   "metadata": {},
   "source": [
    "# Brain tumor simulation using PDEs"
   ]
  },
  {
   "cell_type": "code",
   "execution_count": null,
   "metadata": {},
   "outputs": [],
   "source": [
    "import matplotlib.pyplot as plt\n",
    "import torch as th\n",
    "\n",
    "from ipywidgets import interact, IntSlider, FloatSlider\n",
    "from pathlib import Path\n",
    "\n",
    "from phynn.dataloader import DynamicsElement, DataInterface, HDF5DirectlyFromFile\n",
    "from phynn.pde import PDEEval, PDEStaticParams, FisherKolmogorovPDE"
   ]
  },
  {
   "cell_type": "markdown",
   "metadata": {},
   "source": [
    "## Load data"
   ]
  },
  {
   "cell_type": "code",
   "execution_count": null,
   "metadata": {},
   "outputs": [],
   "source": [
    "dataset_path = Path(\"../data/preprocessed/Brain-Tumor-Progression/2d.h5\")\n",
    "data_interface = HDF5DirectlyFromFile(dataset_path)\n",
    "\n",
    "\n",
    "print(f\"Number of loaded time series: {data_interface.times_shape[0]}\")\n",
    "print(f\"Shape of each image: {data_interface.image_shape}\")"
   ]
  },
  {
   "cell_type": "markdown",
   "metadata": {},
   "source": [
    "## Reaction-diffusion equation"
   ]
  },
  {
   "cell_type": "code",
   "execution_count": null,
   "metadata": {},
   "outputs": [],
   "source": [
    "def simulate_reaction_diffusion(data_interface: DataInterface):\n",
    "    series = data_interface.times_shape[0]\n",
    "\n",
    "    pde = FisherKolmogorovPDE()\n",
    "    params = PDEStaticParams(0, 0)\n",
    "    pde_eval = PDEEval(\n",
    "        pde,\n",
    "        params,\n",
    "        min_concentration=0.3,\n",
    "        boundary_condition=lambda x: x > 0.02,\n",
    "    )\n",
    "\n",
    "    def plot_image(index: int, time: int, D: float, p: float, x: int):\n",
    "        params.values = (D, p)\n",
    "\n",
    "        with th.no_grad():\n",
    "            data = data_interface.get(index, 0, 0)\n",
    "            original = data[DynamicsElement.START].cpu()\n",
    "            simulated = pde_eval(\n",
    "                original.unsqueeze(0).unsqueeze(0), th.tensor(time).unsqueeze(0)\n",
    "            )\n",
    "\n",
    "        image_2d = simulated[0][0][x]\n",
    "\n",
    "        v_min = simulated.min().item()\n",
    "        v_max = simulated.max().item()\n",
    "\n",
    "        plt.imshow(image_2d, vmin=v_min, vmax=v_max)\n",
    "        plt.show()\n",
    "\n",
    "    index_slider = IntSlider(min=0, max=series - 1, description=\"Index\")\n",
    "    time_slider = IntSlider(min=0, max=100, step=5, description=\"Time\")\n",
    "    diffusion_slider = FloatSlider(\n",
    "        value=0.0, min=0.0, max=2.0, step=0.025, description=\"Diffusion\"\n",
    "    )\n",
    "    proliferation_slider = FloatSlider(\n",
    "        value=0.0, min=0.0, max=4.0, step=0.025, description=\"Proliferation\"\n",
    "    )\n",
    "    x_slider = IntSlider(min=0, max=data_interface.image_shape[0] - 1, description=\"X\")\n",
    "\n",
    "    interact(\n",
    "        plot_image,\n",
    "        index=index_slider,\n",
    "        time=time_slider,\n",
    "        D=diffusion_slider,\n",
    "        p=proliferation_slider,\n",
    "        x=x_slider,\n",
    "    )"
   ]
  },
  {
   "cell_type": "code",
   "execution_count": null,
   "metadata": {},
   "outputs": [],
   "source": [
    "simulate_reaction_diffusion(data_interface)"
   ]
  }
 ],
 "metadata": {
  "kernelspec": {
   "display_name": "venv",
   "language": "python",
   "name": "python3"
  },
  "language_info": {
   "codemirror_mode": {
    "name": "ipython",
    "version": 3
   },
   "file_extension": ".py",
   "mimetype": "text/x-python",
   "name": "python",
   "nbconvert_exporter": "python",
   "pygments_lexer": "ipython3",
   "version": "3.11.8"
  }
 },
 "nbformat": 4,
 "nbformat_minor": 2
}
